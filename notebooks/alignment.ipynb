{
 "cells": [
  {
   "cell_type": "code",
   "execution_count": 1,
   "id": "92faa2fd-1df1-43e2-bda2-4a6b541e43fb",
   "metadata": {
    "execution": {
     "iopub.execute_input": "2024-10-22T04:43:44.110729Z",
     "iopub.status.busy": "2024-10-22T04:43:44.110247Z",
     "iopub.status.idle": "2024-10-22T04:43:46.579126Z",
     "shell.execute_reply": "2024-10-22T04:43:46.578661Z",
     "shell.execute_reply.started": "2024-10-22T04:43:44.110695Z"
    }
   },
   "outputs": [],
   "source": [
    "import torch\n",
    "from transformers import AutoTokenizer, AutoModel, Trainer, TrainingArguments, AutoModelForSeq2SeqLM\n",
    "from torch.utils.data import DataLoader, TensorDataset"
   ]
  },
  {
   "cell_type": "code",
   "execution_count": 2,
   "id": "c48fe9a0-0faf-4d2a-9cc9-c41cae82f6cc",
   "metadata": {
    "execution": {
     "iopub.execute_input": "2024-10-22T04:43:46.690254Z",
     "iopub.status.busy": "2024-10-22T04:43:46.689840Z",
     "iopub.status.idle": "2024-10-22T04:43:46.715303Z",
     "shell.execute_reply": "2024-10-22T04:43:46.714256Z",
     "shell.execute_reply.started": "2024-10-22T04:43:46.690227Z"
    }
   },
   "outputs": [],
   "source": [
    "def get_device():\n",
    "    \"\"\"\n",
    "    Function that checks\n",
    "    for GPU availability and returns\n",
    "    the appropriate device.\n",
    "    :return: torch.device\n",
    "    \"\"\"\n",
    "    if torch.cuda.is_available():\n",
    "        dev = \"cuda\"\n",
    "    elif torch.backends.mps.is_available():\n",
    "        dev = \"mps\"\n",
    "    else:\n",
    "        dev = \"cpu\"\n",
    "    device = torch.device(dev)\n",
    "    return device\n",
    "\n",
    "\n",
    "device = get_device()"
   ]
  },
  {
   "cell_type": "code",
   "execution_count": 3,
   "id": "5fbe6df7-46b1-4a69-9199-f73cba95c876",
   "metadata": {
    "execution": {
     "iopub.execute_input": "2024-10-21T07:07:33.744878Z",
     "iopub.status.busy": "2024-10-21T07:07:33.743525Z",
     "iopub.status.idle": "2024-10-21T07:07:33.764028Z",
     "shell.execute_reply": "2024-10-21T07:07:33.763063Z",
     "shell.execute_reply.started": "2024-10-21T07:07:33.744795Z"
    }
   },
   "outputs": [
    {
     "data": {
      "text/plain": [
       "device(type='mps')"
      ]
     },
     "execution_count": 3,
     "metadata": {},
     "output_type": "execute_result"
    }
   ],
   "source": [
    "device"
   ]
  },
  {
   "cell_type": "code",
   "execution_count": 6,
   "id": "76483281-d3c0-40c9-b2ac-3b01b2e7d379",
   "metadata": {
    "execution": {
     "iopub.execute_input": "2024-10-21T07:08:46.612964Z",
     "iopub.status.busy": "2024-10-21T07:08:46.611624Z",
     "iopub.status.idle": "2024-10-21T07:09:01.860367Z",
     "shell.execute_reply": "2024-10-21T07:09:01.858835Z",
     "shell.execute_reply.started": "2024-10-21T07:08:46.612885Z"
    }
   },
   "outputs": [
    {
     "data": {
      "application/vnd.jupyter.widget-view+json": {
       "model_id": "3335bb5df3764eabb400b2cda520b4e4",
       "version_major": 2,
       "version_minor": 0
      },
      "text/plain": [
       "config.json:   0%|          | 0.00/1.21k [00:00<?, ?B/s]"
      ]
     },
     "metadata": {},
     "output_type": "display_data"
    },
    {
     "data": {
      "application/vnd.jupyter.widget-view+json": {
       "model_id": "278bc04634544caab4dc79ce637533c3",
       "version_major": 2,
       "version_minor": 0
      },
      "text/plain": [
       "model.safetensors:   0%|          | 0.00/242M [00:00<?, ?B/s]"
      ]
     },
     "metadata": {},
     "output_type": "display_data"
    },
    {
     "data": {
      "application/vnd.jupyter.widget-view+json": {
       "model_id": "279e88be9d414bdbafe4eeedbb1bbb47",
       "version_major": 2,
       "version_minor": 0
      },
      "text/plain": [
       "generation_config.json:   0%|          | 0.00/147 [00:00<?, ?B/s]"
      ]
     },
     "metadata": {},
     "output_type": "display_data"
    }
   ],
   "source": [
    "encoder_decoder= AutoModelForSeq2SeqLM.from_pretrained(\"google-t5/t5-small\")"
   ]
  },
  {
   "cell_type": "code",
   "execution_count": 9,
   "id": "a0744561-a691-4ace-b4e1-c915dd9fcdda",
   "metadata": {
    "execution": {
     "iopub.execute_input": "2024-10-21T07:14:11.362068Z",
     "iopub.status.busy": "2024-10-21T07:14:11.361271Z",
     "iopub.status.idle": "2024-10-21T07:14:14.178302Z",
     "shell.execute_reply": "2024-10-21T07:14:14.177615Z",
     "shell.execute_reply.started": "2024-10-21T07:14:11.362021Z"
    }
   },
   "outputs": [
    {
     "data": {
      "application/vnd.jupyter.widget-view+json": {
       "model_id": "384c590701a34d6e85e7c8ff9208fe10",
       "version_major": 2,
       "version_minor": 0
      },
      "text/plain": [
       "tokenizer_config.json:   0%|          | 0.00/2.32k [00:00<?, ?B/s]"
      ]
     },
     "metadata": {},
     "output_type": "display_data"
    },
    {
     "data": {
      "application/vnd.jupyter.widget-view+json": {
       "model_id": "e4a708a183264c4fab1b22f8dab6f30a",
       "version_major": 2,
       "version_minor": 0
      },
      "text/plain": [
       "spiece.model:   0%|          | 0.00/792k [00:00<?, ?B/s]"
      ]
     },
     "metadata": {},
     "output_type": "display_data"
    },
    {
     "data": {
      "application/vnd.jupyter.widget-view+json": {
       "model_id": "6f73bfec819749fdb5a11211e0ace5a3",
       "version_major": 2,
       "version_minor": 0
      },
      "text/plain": [
       "tokenizer.json:   0%|          | 0.00/1.39M [00:00<?, ?B/s]"
      ]
     },
     "metadata": {},
     "output_type": "display_data"
    }
   ],
   "source": [
    "tokenizer = AutoTokenizer.from_pretrained(\"google-t5/t5-small\")"
   ]
  },
  {
   "cell_type": "code",
   "execution_count": 10,
   "id": "8d2326ed-52e1-4041-81b4-e8cc4da59bdc",
   "metadata": {
    "execution": {
     "iopub.execute_input": "2024-10-21T07:14:45.884556Z",
     "iopub.status.busy": "2024-10-21T07:14:45.883369Z",
     "iopub.status.idle": "2024-10-21T07:14:45.895655Z",
     "shell.execute_reply": "2024-10-21T07:14:45.893773Z",
     "shell.execute_reply.started": "2024-10-21T07:14:45.884477Z"
    }
   },
   "outputs": [],
   "source": [
    "texts = [\"HuggingFace is a company\", \"welcome to nyc\"]"
   ]
  },
  {
   "cell_type": "code",
   "execution_count": 11,
   "id": "2453f49d-5d26-45c7-919c-d5f7da13cfa9",
   "metadata": {
    "execution": {
     "iopub.execute_input": "2024-10-21T07:15:51.477792Z",
     "iopub.status.busy": "2024-10-21T07:15:51.476735Z",
     "iopub.status.idle": "2024-10-21T07:15:51.496898Z",
     "shell.execute_reply": "2024-10-21T07:15:51.495840Z",
     "shell.execute_reply.started": "2024-10-21T07:15:51.477728Z"
    }
   },
   "outputs": [],
   "source": [
    "input_ids = tokenizer(\"translate English to German: The house is wonderful.\", return_tensors=\"pt\").input_ids"
   ]
  },
  {
   "cell_type": "code",
   "execution_count": 24,
   "id": "54a9b203-909b-4621-b04f-096dfb09812c",
   "metadata": {
    "execution": {
     "iopub.execute_input": "2024-10-22T02:50:44.598528Z",
     "iopub.status.busy": "2024-10-22T02:50:44.597420Z",
     "iopub.status.idle": "2024-10-22T02:50:44.633456Z",
     "shell.execute_reply": "2024-10-22T02:50:44.632930Z",
     "shell.execute_reply.started": "2024-10-22T02:50:44.598111Z"
    }
   },
   "outputs": [],
   "source": [
    "emb = encoder_decoder.encoder(input_ids)"
   ]
  },
  {
   "cell_type": "code",
   "execution_count": 1,
   "id": "982f9a9f-d896-4f91-87a2-f03fbbc05038",
   "metadata": {
    "execution": {
     "iopub.execute_input": "2024-10-22T06:35:43.520792Z",
     "iopub.status.busy": "2024-10-22T06:35:43.519540Z",
     "iopub.status.idle": "2024-10-22T06:35:43.717570Z",
     "shell.execute_reply": "2024-10-22T06:35:43.716733Z",
     "shell.execute_reply.started": "2024-10-22T06:35:43.520691Z"
    }
   },
   "outputs": [
    {
     "ename": "NameError",
     "evalue": "name 'input_ids' is not defined",
     "output_type": "error",
     "traceback": [
      "\u001b[0;31m---------------------------------------------------------------------------\u001b[0m",
      "\u001b[0;31mNameError\u001b[0m                                 Traceback (most recent call last)",
      "Cell \u001b[0;32mIn[1], line 1\u001b[0m\n\u001b[0;32m----> 1\u001b[0m \u001b[43minput_ids\u001b[49m\n",
      "\u001b[0;31mNameError\u001b[0m: name 'input_ids' is not defined"
     ]
    }
   ],
   "source": [
    "input_ids"
   ]
  },
  {
   "cell_type": "code",
   "execution_count": 18,
   "id": "357b4988-45de-4b62-ab51-1b20d1c56019",
   "metadata": {
    "execution": {
     "iopub.execute_input": "2024-10-21T07:17:30.503523Z",
     "iopub.status.busy": "2024-10-21T07:17:30.502444Z",
     "iopub.status.idle": "2024-10-21T07:17:31.302929Z",
     "shell.execute_reply": "2024-10-21T07:17:31.302321Z",
     "shell.execute_reply.started": "2024-10-21T07:17:30.503466Z"
    }
   },
   "outputs": [
    {
     "name": "stderr",
     "output_type": "stream",
     "text": [
      "/Users/yiyichen/anaconda3/envs/fewshot/lib/python3.12/site-packages/transformers/generation/utils.py:1220: UserWarning: Using the model-agnostic default `max_length` (=20) to control the generation length. We recommend setting `max_new_tokens` to control the maximum length of the generation.\n",
      "  warnings.warn(\n"
     ]
    }
   ],
   "source": [
    "outputs = encoder_decoder.generate(input_ids)"
   ]
  },
  {
   "cell_type": "code",
   "execution_count": 19,
   "id": "9c1832f9-507d-4b4c-83c3-875a2c8d890b",
   "metadata": {
    "execution": {
     "iopub.execute_input": "2024-10-21T07:17:38.971490Z",
     "iopub.status.busy": "2024-10-21T07:17:38.969353Z",
     "iopub.status.idle": "2024-10-21T07:17:38.982079Z",
     "shell.execute_reply": "2024-10-21T07:17:38.981041Z",
     "shell.execute_reply.started": "2024-10-21T07:17:38.971427Z"
    }
   },
   "outputs": [
    {
     "name": "stdout",
     "output_type": "stream",
     "text": [
      "Das Haus ist wunderbar.\n"
     ]
    }
   ],
   "source": [
    "print(tokenizer.decode(outputs[0], skip_special_tokens=True))"
   ]
  },
  {
   "cell_type": "code",
   "execution_count": 21,
   "id": "ad808191-ff99-40fd-941a-0189be5fad96",
   "metadata": {
    "execution": {
     "iopub.execute_input": "2024-10-21T07:43:59.220606Z",
     "iopub.status.busy": "2024-10-21T07:43:59.219226Z",
     "iopub.status.idle": "2024-10-21T07:43:59.236014Z",
     "shell.execute_reply": "2024-10-21T07:43:59.235058Z",
     "shell.execute_reply.started": "2024-10-21T07:43:59.220524Z"
    }
   },
   "outputs": [
    {
     "data": {
      "text/plain": [
       "512"
      ]
     },
     "execution_count": 21,
     "metadata": {},
     "output_type": "execute_result"
    }
   ],
   "source": [
    "encoder_decoder.encoder.config.hidden_size"
   ]
  },
  {
   "cell_type": "code",
   "execution_count": 23,
   "id": "9a6ec477-f083-4426-9d47-4948b114c2eb",
   "metadata": {
    "execution": {
     "iopub.execute_input": "2024-10-22T02:50:29.523978Z",
     "iopub.status.busy": "2024-10-22T02:50:29.523161Z",
     "iopub.status.idle": "2024-10-22T02:50:29.535308Z",
     "shell.execute_reply": "2024-10-22T02:50:29.533992Z",
     "shell.execute_reply.started": "2024-10-22T02:50:29.523942Z"
    }
   },
   "outputs": [
    {
     "data": {
      "text/plain": [
       "tensor([[    0,   644,  4598,   229, 19250,     5,     1]])"
      ]
     },
     "execution_count": 23,
     "metadata": {},
     "output_type": "execute_result"
    }
   ],
   "source": []
  },
  {
   "cell_type": "code",
   "execution_count": 28,
   "id": "15cc0cbb-1f43-4841-86bf-05b5bce41d14",
   "metadata": {
    "execution": {
     "iopub.execute_input": "2024-10-22T03:06:29.146083Z",
     "iopub.status.busy": "2024-10-22T03:06:29.144608Z",
     "iopub.status.idle": "2024-10-22T03:06:29.158129Z",
     "shell.execute_reply": "2024-10-22T03:06:29.157331Z",
     "shell.execute_reply.started": "2024-10-22T03:06:29.146005Z"
    }
   },
   "outputs": [
    {
     "data": {
      "text/plain": [
       "torch.Size([1, 512])"
      ]
     },
     "execution_count": 28,
     "metadata": {},
     "output_type": "execute_result"
    }
   ],
   "source": [
    "emb.last_hidden_state[:, 0, :].shape"
   ]
  },
  {
   "cell_type": "code",
   "execution_count": 3,
   "id": "547633f5-d144-4d94-9c8a-caa33eeae3fd",
   "metadata": {
    "execution": {
     "iopub.execute_input": "2024-10-22T04:43:52.238302Z",
     "iopub.status.busy": "2024-10-22T04:43:52.237479Z",
     "iopub.status.idle": "2024-10-22T04:43:52.245539Z",
     "shell.execute_reply": "2024-10-22T04:43:52.244216Z",
     "shell.execute_reply.started": "2024-10-22T04:43:52.238261Z"
    }
   },
   "outputs": [],
   "source": [
    "import datasets"
   ]
  },
  {
   "cell_type": "code",
   "execution_count": 4,
   "id": "63012405-8b00-4f3b-9d57-1239cf9d5051",
   "metadata": {
    "execution": {
     "iopub.execute_input": "2024-10-22T04:43:53.904228Z",
     "iopub.status.busy": "2024-10-22T04:43:53.902886Z",
     "iopub.status.idle": "2024-10-22T04:44:01.937269Z",
     "shell.execute_reply": "2024-10-22T04:44:01.935805Z",
     "shell.execute_reply.started": "2024-10-22T04:43:53.904155Z"
    }
   },
   "outputs": [
    {
     "name": "stdout",
     "output_type": "stream",
     "text": [
      "{'id': '5733be284776f41900661182', 'title': 'University_of_Notre_Dame', 'context': 'Architecturally, the school has a Catholic character. Atop the Main Building\\'s gold dome is a golden statue of the Virgin Mary. Immediately in front of the Main Building and facing it, is a copper statue of Christ with arms upraised with the legend \"Venite Ad Me Omnes\". Next to the Main Building is the Basilica of the Sacred Heart. Immediately behind the basilica is the Grotto, a Marian place of prayer and reflection. It is a replica of the grotto at Lourdes, France where the Virgin Mary reputedly appeared to Saint Bernadette Soubirous in 1858. At the end of the main drive (and in a direct line that connects through 3 statues and the Gold Dome), is a simple, modern stone statue of Mary.', 'question': 'To whom did the Virgin Mary allegedly appear in 1858 in Lourdes France?', 'answers': {'text': ['Saint Bernadette Soubirous'], 'answer_start': [515]}}\n"
     ]
    }
   ],
   "source": [
    "from datasets import load_dataset; print(load_dataset('squad', split='train')[0])"
   ]
  },
  {
   "cell_type": "code",
   "execution_count": 5,
   "id": "42488bc8-d9b5-4259-bf39-9a2097ea5761",
   "metadata": {
    "execution": {
     "iopub.execute_input": "2024-10-22T04:44:03.126056Z",
     "iopub.status.busy": "2024-10-22T04:44:03.124914Z",
     "iopub.status.idle": "2024-10-22T04:44:03.145539Z",
     "shell.execute_reply": "2024-10-22T04:44:03.144634Z",
     "shell.execute_reply.started": "2024-10-22T04:44:03.125980Z"
    }
   },
   "outputs": [
    {
     "data": {
      "text/plain": [
       "'3.0.1'"
      ]
     },
     "execution_count": 5,
     "metadata": {},
     "output_type": "execute_result"
    }
   ],
   "source": [
    "datasets.__version__"
   ]
  },
  {
   "cell_type": "code",
   "execution_count": 6,
   "id": "f6e46361-d203-46f1-8561-95a2a5a390b4",
   "metadata": {
    "execution": {
     "iopub.execute_input": "2024-10-22T04:44:51.504371Z",
     "iopub.status.busy": "2024-10-22T04:44:51.503383Z",
     "iopub.status.idle": "2024-10-22T04:44:52.877996Z",
     "shell.execute_reply": "2024-10-22T04:44:52.876923Z",
     "shell.execute_reply.started": "2024-10-22T04:44:51.504324Z"
    }
   },
   "outputs": [
    {
     "name": "stdout",
     "output_type": "stream",
     "text": [
      "Collecting evaluate\n",
      "  Downloading evaluate-0.4.3-py3-none-any.whl.metadata (9.2 kB)\n",
      "Requirement already satisfied: datasets>=2.0.0 in /Users/yiyichen/anaconda3/envs/fewshot/lib/python3.12/site-packages (from evaluate) (3.0.1)\n",
      "Requirement already satisfied: numpy>=1.17 in /Users/yiyichen/anaconda3/envs/fewshot/lib/python3.12/site-packages (from evaluate) (1.26.0)\n",
      "Requirement already satisfied: dill in /Users/yiyichen/anaconda3/envs/fewshot/lib/python3.12/site-packages (from evaluate) (0.3.8)\n",
      "Requirement already satisfied: pandas in /Users/yiyichen/anaconda3/envs/fewshot/lib/python3.12/site-packages (from evaluate) (2.2.3)\n",
      "Requirement already satisfied: requests>=2.19.0 in /Users/yiyichen/anaconda3/envs/fewshot/lib/python3.12/site-packages (from evaluate) (2.32.3)\n",
      "Requirement already satisfied: tqdm>=4.62.1 in /Users/yiyichen/anaconda3/envs/fewshot/lib/python3.12/site-packages (from evaluate) (4.66.5)\n",
      "Requirement already satisfied: xxhash in /Users/yiyichen/anaconda3/envs/fewshot/lib/python3.12/site-packages (from evaluate) (3.5.0)\n",
      "Requirement already satisfied: multiprocess in /Users/yiyichen/anaconda3/envs/fewshot/lib/python3.12/site-packages (from evaluate) (0.70.16)\n",
      "Requirement already satisfied: fsspec>=2021.05.0 in /Users/yiyichen/anaconda3/envs/fewshot/lib/python3.12/site-packages (from fsspec[http]>=2021.05.0->evaluate) (2024.6.1)\n",
      "Requirement already satisfied: huggingface-hub>=0.7.0 in /Users/yiyichen/anaconda3/envs/fewshot/lib/python3.12/site-packages (from evaluate) (0.26.0)\n",
      "Requirement already satisfied: packaging in /Users/yiyichen/anaconda3/envs/fewshot/lib/python3.12/site-packages (from evaluate) (24.1)\n",
      "Requirement already satisfied: filelock in /Users/yiyichen/anaconda3/envs/fewshot/lib/python3.12/site-packages (from datasets>=2.0.0->evaluate) (3.16.1)\n",
      "Requirement already satisfied: pyarrow>=15.0.0 in /Users/yiyichen/anaconda3/envs/fewshot/lib/python3.12/site-packages (from datasets>=2.0.0->evaluate) (17.0.0)\n",
      "Requirement already satisfied: aiohttp in /Users/yiyichen/anaconda3/envs/fewshot/lib/python3.12/site-packages (from datasets>=2.0.0->evaluate) (3.10.10)\n",
      "Requirement already satisfied: pyyaml>=5.1 in /Users/yiyichen/anaconda3/envs/fewshot/lib/python3.12/site-packages (from datasets>=2.0.0->evaluate) (6.0.2)\n",
      "Requirement already satisfied: typing-extensions>=3.7.4.3 in /Users/yiyichen/anaconda3/envs/fewshot/lib/python3.12/site-packages (from huggingface-hub>=0.7.0->evaluate) (4.12.2)\n",
      "Requirement already satisfied: charset-normalizer<4,>=2 in /Users/yiyichen/anaconda3/envs/fewshot/lib/python3.12/site-packages (from requests>=2.19.0->evaluate) (3.4.0)\n",
      "Requirement already satisfied: idna<4,>=2.5 in /Users/yiyichen/anaconda3/envs/fewshot/lib/python3.12/site-packages (from requests>=2.19.0->evaluate) (3.10)\n",
      "Requirement already satisfied: urllib3<3,>=1.21.1 in /Users/yiyichen/anaconda3/envs/fewshot/lib/python3.12/site-packages (from requests>=2.19.0->evaluate) (2.2.3)\n",
      "Requirement already satisfied: certifi>=2017.4.17 in /Users/yiyichen/anaconda3/envs/fewshot/lib/python3.12/site-packages (from requests>=2.19.0->evaluate) (2024.8.30)\n",
      "Requirement already satisfied: python-dateutil>=2.8.2 in /Users/yiyichen/anaconda3/envs/fewshot/lib/python3.12/site-packages (from pandas->evaluate) (2.9.0.post0)\n",
      "Requirement already satisfied: pytz>=2020.1 in /Users/yiyichen/anaconda3/envs/fewshot/lib/python3.12/site-packages (from pandas->evaluate) (2024.2)\n",
      "Requirement already satisfied: tzdata>=2022.7 in /Users/yiyichen/anaconda3/envs/fewshot/lib/python3.12/site-packages (from pandas->evaluate) (2024.2)\n",
      "Requirement already satisfied: aiohappyeyeballs>=2.3.0 in /Users/yiyichen/anaconda3/envs/fewshot/lib/python3.12/site-packages (from aiohttp->datasets>=2.0.0->evaluate) (2.4.3)\n",
      "Requirement already satisfied: aiosignal>=1.1.2 in /Users/yiyichen/anaconda3/envs/fewshot/lib/python3.12/site-packages (from aiohttp->datasets>=2.0.0->evaluate) (1.3.1)\n",
      "Requirement already satisfied: attrs>=17.3.0 in /Users/yiyichen/anaconda3/envs/fewshot/lib/python3.12/site-packages (from aiohttp->datasets>=2.0.0->evaluate) (24.2.0)\n",
      "Requirement already satisfied: frozenlist>=1.1.1 in /Users/yiyichen/anaconda3/envs/fewshot/lib/python3.12/site-packages (from aiohttp->datasets>=2.0.0->evaluate) (1.4.1)\n",
      "Requirement already satisfied: multidict<7.0,>=4.5 in /Users/yiyichen/anaconda3/envs/fewshot/lib/python3.12/site-packages (from aiohttp->datasets>=2.0.0->evaluate) (6.1.0)\n",
      "Requirement already satisfied: yarl<2.0,>=1.12.0 in /Users/yiyichen/anaconda3/envs/fewshot/lib/python3.12/site-packages (from aiohttp->datasets>=2.0.0->evaluate) (1.15.5)\n",
      "Requirement already satisfied: six>=1.5 in /Users/yiyichen/anaconda3/envs/fewshot/lib/python3.12/site-packages (from python-dateutil>=2.8.2->pandas->evaluate) (1.16.0)\n",
      "Requirement already satisfied: propcache>=0.2.0 in /Users/yiyichen/anaconda3/envs/fewshot/lib/python3.12/site-packages (from yarl<2.0,>=1.12.0->aiohttp->datasets>=2.0.0->evaluate) (0.2.0)\n",
      "Downloading evaluate-0.4.3-py3-none-any.whl (84 kB)\n",
      "Installing collected packages: evaluate\n",
      "Successfully installed evaluate-0.4.3\n"
     ]
    }
   ],
   "source": [
    "! pip install evaluate"
   ]
  },
  {
   "cell_type": "code",
   "execution_count": null,
   "id": "b839b6eb-2a1e-4e05-a7a8-80707ec99ec0",
   "metadata": {},
   "outputs": [],
   "source": []
  }
 ],
 "metadata": {
  "kernelspec": {
   "display_name": "fewshotinversion",
   "language": "python",
   "name": "fewshot"
  },
  "language_info": {
   "codemirror_mode": {
    "name": "ipython",
    "version": 3
   },
   "file_extension": ".py",
   "mimetype": "text/x-python",
   "name": "python",
   "nbconvert_exporter": "python",
   "pygments_lexer": "ipython3",
   "version": "3.12.0"
  }
 },
 "nbformat": 4,
 "nbformat_minor": 5
}
